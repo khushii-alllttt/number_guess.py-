{
  "nbformat": 4,
  "nbformat_minor": 0,
  "metadata": {
    "colab": {
      "provenance": [],
      "authorship_tag": "ABX9TyMEYVd+9l617BVUwwvcZ0ox",
      "include_colab_link": true
    },
    "kernelspec": {
      "name": "python3",
      "display_name": "Python 3"
    },
    "language_info": {
      "name": "python"
    }
  },
  "cells": [
    {
      "cell_type": "markdown",
      "metadata": {
        "id": "view-in-github",
        "colab_type": "text"
      },
      "source": [
        "<a href=\"https://colab.research.google.com/github/khushii-alllttt/number_guess.py-/blob/main/number_guess.ipynb\" target=\"_parent\"><img src=\"https://colab.research.google.com/assets/colab-badge.svg\" alt=\"Open In Colab\"/></a>"
      ]
    },
    {
      "cell_type": "code",
      "execution_count": null,
      "metadata": {
        "colab": {
          "base_uri": "https://localhost:8080/"
        },
        "id": "fjIsnl1qrgnw",
        "outputId": "27f7219b-5f6b-4258-87a9-d504bf690e3b"
      },
      "outputs": [
        {
          "metadata": {
            "tags": null
          },
          "name": "stdout",
          "output_type": "stream",
          "text": [
            "=== Number Guessing Game ===\n",
            "\n",
            "Choose difficulty:\n",
            "1) Easy  (1–50)\n",
            "2) Normal (1–100)\n",
            "3) Hard  (1–500)\n",
            "4) Custom range\n",
            "Invalid choice; using Normal (1–100).\n",
            "\n",
            "I'm thinking of a number between 1 and 100. Try to guess it!\n",
            "Type 'q' to quit this round.\n",
            "\n",
            "Too low! Try again.\n"
          ]
        }
      ],
      "source": [
        "import random\n",
        "\n",
        "def play_game(lower=1, upper=100):\n",
        "    \"\"\"Play one round of the guessing game.\"\"\"\n",
        "    secret = random.randint(lower, upper)\n",
        "    attempts = 0\n",
        "    print(f\"\\nI'm thinking of a number between {lower} and {upper}. Try to guess it!\")\n",
        "    print(\"Type 'q' to quit this round.\\n\")\n",
        "\n",
        "    while True:\n",
        "        guess_text = input(\"Your guess: \").strip().lower()\n",
        "        if guess_text == 'q':\n",
        "            print(f\"You quit. The number was {secret}.\")\n",
        "            return None  # No score for quitting\n",
        "\n",
        "        # Validate numeric input\n",
        "        if not guess_text.isdigit():\n",
        "            print(\"Please enter a whole number (or 'q' to quit).\")\n",
        "            continue\n",
        "\n",
        "        guess = int(guess_text)\n",
        "        if guess < lower or guess > upper:\n",
        "            print(f\"Out of range! Enter a number between {lower} and {upper}.\")\n",
        "            continue\n",
        "\n",
        "        attempts += 1\n",
        "\n",
        "        if guess < secret:\n",
        "            print(\"Too low! Try again.\")\n",
        "        elif guess > secret:\n",
        "            print(\"Too high! Try again.\")\n",
        "        else:\n",
        "            print(f\"🎉 Correct! You guessed it in {attempts} attempt{'s' if attempts != 1 else ''}.\")\n",
        "            return attempts  # Return score\n",
        "\n",
        "\n",
        "def choose_range():\n",
        "    \"\"\"Optional difficulty selection.\"\"\"\n",
        "    print(\"\\nChoose difficulty:\")\n",
        "    print(\"1) Easy  (1–50)\")\n",
        "    print(\"2) Normal (1–100)\")\n",
        "    print(\"3) Hard  (1–500)\")\n",
        "    print(\"4) Custom range\")\n",
        "    choice = input(\"Select 1-4 (default 2): \").strip()\n",
        "\n",
        "    if choice == '1':\n",
        "        return 1, 50\n",
        "    elif choice == '2' or choice == '':\n",
        "        return 1, 100\n",
        "    elif choice == '3':\n",
        "        return 1, 500\n",
        "    elif choice == '4':\n",
        "        while True:\n",
        "            try:\n",
        "                low = int(input(\"Lower bound: \").strip())\n",
        "                high = int(input(\"Upper bound: \").strip())\n",
        "                if low >= high:\n",
        "                    print(\"Lower must be less than upper. Try again.\")\n",
        "                    continue\n",
        "                return low, high\n",
        "            except ValueError:\n",
        "                print(\"Enter valid integers.\")\n",
        "    else:\n",
        "        print(\"Invalid choice; using Normal (1–100).\")\n",
        "        return 1, 100\n",
        "\n",
        "\n",
        "def main():\n",
        "    print(\"=== Number Guessing Game ===\")\n",
        "    best_score = None\n",
        "\n",
        "    while True:\n",
        "        low, high = choose_range()\n",
        "        attempts = play_game(low, high)\n",
        "\n",
        "        if attempts is not None:  # player guessed correctly\n",
        "            if best_score is None or attempts < best_score:\n",
        "                best_score = attempts\n",
        "                print(\"🏅 New best score!\")\n",
        "            if best_score is not None:\n",
        "                print(f\"Current best: {best_score} attempt{'s' if best_score != 1 else ''}.\")\n",
        "\n",
        "        again = input(\"\\nPlay again? (y/n): \").strip().lower()\n",
        "        if again != 'y':\n",
        "            print(\"Thanks for playing! Goodbye.\")\n",
        "            break\n",
        "\n",
        "\n",
        "if __name__ == \"__main__\":\n",
        "    main()\n"
      ]
    }
  ]
}